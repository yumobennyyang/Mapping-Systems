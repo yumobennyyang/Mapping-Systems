{
 "cells": [
  {
   "cell_type": "code",
   "execution_count": null,
   "id": "1366cdf5",
   "metadata": {},
   "outputs": [],
   "source": [
    "import pandas as pd\n",
    "import matplotlib.pyplot as plt\n",
    "import seaborn as sns\n",
    "import geopandas as gpd\n",
    "from datetime import datetime"
   ]
  },
  {
   "cell_type": "code",
   "execution_count": null,
   "id": "c76ea42f",
   "metadata": {},
   "outputs": [],
   "source": [
    "# Load the data\n",
    "df = pd.read_csv(\"/NYPD_Arrest_Data__Year_to_Date__20250710.csv\")"
   ]
  },
  {
   "cell_type": "code",
   "execution_count": null,
   "id": "b7404f4f",
   "metadata": {},
   "outputs": [],
   "source": [
    "# Parse dates and clean coordinates\n",
    "df['ARREST_DATE'] = pd.to_datetime(df['ARREST_DATE'], errors='coerce')\n",
    "df = df[df['Latitude'] != 0]  # Remove invalid geo-points"
   ]
  },
  {
   "cell_type": "code",
   "execution_count": null,
   "id": "06a6688e",
   "metadata": {},
   "outputs": [],
   "source": [
    "# Select relevant columns\n",
    "cols = ['ARREST_DATE', 'LAW_CAT_CD', 'PERP_SEX', 'PERP_RACE', 'AGE_GROUP', 'ARREST_BORO', 'Latitude', 'Longitude']\n",
    "df = df[cols].dropna()"
   ]
  },
  {
   "cell_type": "markdown",
   "id": "09529f2e",
   "metadata": {},
   "source": [
    "# Attribute 1: LAW_CAT_CD"
   ]
  },
  {
   "cell_type": "code",
   "execution_count": null,
   "id": "f0737db9",
   "metadata": {},
   "outputs": [],
   "source": [
    "# Summary of law categories\n",
    "law_counts = df['LAW_CAT_CD'].value_counts().sort_index()\n",
    "law_counts.plot(kind='bar', title='Arrests by Law Category', ylabel='Number of Arrests')\n",
    "plt.xticks(rotation=0)\n",
    "plt.tight_layout()\n",
    "plt.show()"
   ]
  },
  {
   "cell_type": "markdown",
   "id": "c0ebd476",
   "metadata": {},
   "source": [
    "Explanation:\n",
    "- \"F\": Felony, \"M\": Misdemeanor, \"V\": Violation\n",
    "- Majority of arrests fall under misdemeanors, indicating police are more frequently detaining people for less severe infractions.\n",
    "- This attribute tells us about the **legal classification** of offenses, but not whether charges were upheld, or the context of the arrest."
   ]
  },
  {
   "cell_type": "markdown",
   "id": "99f6fb24",
   "metadata": {},
   "source": [
    "# Attribute 2: PERP_RACE by LAW_CAT_CD"
   ]
  },
  {
   "cell_type": "code",
   "execution_count": null,
   "id": "038468c9",
   "metadata": {},
   "outputs": [],
   "source": [
    "race_law = pd.crosstab(df['PERP_RACE'], df['LAW_CAT_CD'], normalize='index')\n",
    "race_law.plot(kind='bar', stacked=True, title='Arrest Severity Distribution by Race')\n",
    "plt.ylabel('Proportion of Arrests')\n",
    "plt.tight_layout()\n",
    "plt.show()"
   ]
  },
  {
   "cell_type": "markdown",
   "id": "da5959c5",
   "metadata": {},
   "source": [
    "Explanation:\n",
    "- Helps assess if certain racial groups are disproportionately arrested for more serious crimes.\n",
    "- However, it cannot show **why** differences exist — not accounting for population base rates, precinct policies, or structural bias."
   ]
  },
  {
   "cell_type": "markdown",
   "id": "dd77ed7c",
   "metadata": {},
   "source": [
    "# Attribute 3: AGE_GROUP vs LAW_CAT_CD"
   ]
  },
  {
   "cell_type": "code",
   "execution_count": null,
   "id": "dc103592",
   "metadata": {},
   "outputs": [],
   "source": [
    "age_law = pd.crosstab(df['AGE_GROUP'], df['LAW_CAT_CD'], normalize='index')\n",
    "age_law.plot(kind='bar', stacked=True, title='Arrest Severity by Age Group')\n",
    "plt.ylabel('Proportion of Arrests')\n",
    "plt.tight_layout()\n",
    "plt.show()"
   ]
  },
  {
   "cell_type": "markdown",
   "id": "5e02821d",
   "metadata": {},
   "source": [
    "Explanation:\n",
    "- Youth (18–24) and adults (25–44) face most felony and misdemeanor charges.\n",
    "- The attribute gives demographic trends, but cannot tell us **intent**, **recidivism**, or **policing focus**."
   ]
  },
  {
   "cell_type": "markdown",
   "id": "57cae015",
   "metadata": {},
   "source": [
    "# Attribute 4: Map of Arrests by Borough"
   ]
  },
  {
   "cell_type": "code",
   "execution_count": null,
   "id": "1bdedc45",
   "metadata": {},
   "outputs": [],
   "source": [
    "import folium\n",
    "from folium.plugins import MarkerCluster"
   ]
  },
  {
   "cell_type": "code",
   "execution_count": null,
   "id": "fc864bd4",
   "metadata": {},
   "outputs": [],
   "source": [
    "# Centered on NYC\n",
    "map_nyc = folium.Map(location=[40.7128, -74.0060], zoom_start=10)\n",
    "marker_cluster = MarkerCluster().add_to(map_nyc)"
   ]
  },
  {
   "cell_type": "code",
   "execution_count": null,
   "id": "e9ec379a",
   "metadata": {},
   "outputs": [],
   "source": [
    "# Sample for performance\n",
    "for idx, row in df.sample(1000).iterrows():\n",
    "    folium.CircleMarker(\n",
    "        location=(row['Latitude'], row['Longitude']),\n",
    "        radius=2,\n",
    "        color='blue',\n",
    "        fill=True,\n",
    "        fill_opacity=0.5,\n",
    "        popup=f\"{row['LAW_CAT_CD']} - {row['PERP_RACE']}\"\n",
    "    ).add_to(marker_cluster)"
   ]
  },
  {
   "cell_type": "code",
   "execution_count": null,
   "id": "98da2f82",
   "metadata": {},
   "outputs": [],
   "source": [
    "# Save map\n",
    "map_nyc.save(\"/arrest_map.html\")"
   ]
  },
  {
   "cell_type": "markdown",
   "id": "98508afb",
   "metadata": {},
   "source": [
    "Explanation:\n",
    "- Map helps visualize **where** arrests cluster, especially in certain boroughs.\n",
    "- But arrest location does not mean **crime location**, and map density may reflect precinct size more than crime rate."
   ]
  },
  {
   "cell_type": "markdown",
   "id": "847f0d72",
   "metadata": {},
   "source": [
    "Final Notes\n",
    "- Attributes like LAW_CAT_CD give insight into severity, but don't convey outcome or fairness.\n",
    "- Demographics show who is getting arrested, but not necessarily who is committing crimes — deeper systemic and contextual data is needed.\n",
    "- Visualizations are tools to explore *correlations*, not determine *causality*."
   ]
  },
  {
   "cell_type": "code",
   "execution_count": null,
   "id": "c61a18bb",
   "metadata": {},
   "outputs": [],
   "source": [
    "print(\"Analysis complete. Map saved as arrest_map.html\")"
   ]
  }
 ],
 "metadata": {
  "language_info": {
   "name": "python"
  }
 },
 "nbformat": 4,
 "nbformat_minor": 5
}
